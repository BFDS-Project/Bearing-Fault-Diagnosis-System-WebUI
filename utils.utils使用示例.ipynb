{
 "cells": [
  {
   "cell_type": "code",
   "execution_count": null,
   "metadata": {},
   "outputs": [],
   "source": [
    "import numpy as np\n",
    "from dataset import load_dataset,load_from_disk\n",
    "from utils.wavelet import ContinuousWaveletTransform\n"
   ]
  },
  {
   "cell_type": "code",
   "execution_count": 3,
   "metadata": {},
   "outputs": [
    {
     "name": "stderr",
     "output_type": "stream",
     "text": [
      "Using the latest cached version of the dataset since BFDS-Project/Bearing-Fault-Diagnosis-System couldn't be found on the Hugging Face Hub\n",
      "Found the latest cached dataset configuration 'CWRU' at C:\\Users\\86188\\.cache\\huggingface\\datasets\\BFDS-Project___bearing-fault-diagnosis-system\\CWRU\\0.0.0\\8dc5371f1270becdb3a94e65b09e171f939213a3 (last modified on Thu Mar  6 18:02:38 2025).\n"
     ]
    }
   ],
   "source": [
    "\n",
    "dataset = load_dataset(\"BFDS-Project/Bearing-Fault-Diagnosis-System\")##第一次运行会自动下载，之后会自动从缓存提取\n",
    "\n"
   ]
  },
  {
   "cell_type": "code",
   "execution_count": 4,
   "metadata": {},
   "outputs": [],
   "source": [
    "dataset_size = len(dataset[\"CWRU_12k_Drive_End_Bearing_Fault_Data\"])\n"
   ]
  },
  {
   "cell_type": "code",
   "execution_count": 5,
   "metadata": {},
   "outputs": [
    {
     "name": "stdout",
     "output_type": "stream",
     "text": [
      "(100041, 225)\n"
     ]
    }
   ],
   "source": [
    "import pandas as pd\n",
    "\n",
    "df = pd.DataFrame(dataset[\"CWRU_12k_Drive_End_Bearing_Fault_Data\"])  # 直接转 DataFrame\n",
    "a = df.to_numpy(dtype=np.float32)  # 转 NumPy 数组\n",
    "print(a.shape)  # (10000, 225)\n",
    "\n",
    "\n"
   ]
  },
  {
   "cell_type": "code",
   "execution_count": 6,
   "metadata": {},
   "outputs": [
    {
     "data": {
      "text/plain": [
       "<module 'utils.util' from 'c:\\\\Users\\\\86188\\\\Desktop\\\\大创新工作\\\\Bearing-Fault-Diagnosis-System-WebUI\\\\utils\\\\util.py'>"
      ]
     },
     "execution_count": 6,
     "metadata": {},
     "output_type": "execute_result"
    }
   ],
   "source": [
    "import importlib\n",
    "import utils.util\n",
    "importlib.reload(utils.util)"
   ]
  },
  {
   "cell_type": "code",
   "execution_count": 7,
   "metadata": {},
   "outputs": [],
   "source": [
    "dataset=utils.util.SignalDataset(a[:100,:],12e3,6)"
   ]
  },
  {
   "cell_type": "code",
   "execution_count": 8,
   "metadata": {},
   "outputs": [],
   "source": [
    "train,eval=utils.util.get_data_loader(dataset,16,0)"
   ]
  },
  {
   "cell_type": "code",
   "execution_count": 9,
   "metadata": {},
   "outputs": [],
   "source": [
    "\n",
    "cwt=ContinuousWaveletTransform(12e3,a[3,:-1])"
   ]
  },
  {
   "cell_type": "code",
   "execution_count": null,
   "metadata": {},
   "outputs": [],
   "source": [
    "b=cwt.cwt_results[0]"
   ]
  }
 ],
 "metadata": {
  "kernelspec": {
   "display_name": "egcv",
   "language": "python",
   "name": "python3"
  },
  "language_info": {
   "codemirror_mode": {
    "name": "ipython",
    "version": 3
   },
   "file_extension": ".py",
   "mimetype": "text/x-python",
   "name": "python",
   "nbconvert_exporter": "python",
   "pygments_lexer": "ipython3",
   "version": "3.10.14"
  }
 },
 "nbformat": 4,
 "nbformat_minor": 2
}
